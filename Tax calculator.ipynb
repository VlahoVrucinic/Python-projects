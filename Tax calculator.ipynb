{
 "cells": [
  {
   "cell_type": "code",
   "execution_count": 19,
   "id": "0db70a88",
   "metadata": {},
   "outputs": [],
   "source": [
    "def tax_calculator():\n",
    "    price = int(input('Please enter the price of the item: '))\n",
    "    tax_rate = int(input('Please enter the tax rate: '))\n",
    "    \n",
    "    tax_rate = tax_rate / 100\n",
    "    tax = price * tax_rate\n",
    "    item = price + tax\n",
    "    \n",
    "    \n",
    "    print(f'The tax on this price is: {tax}')\n",
    "    print(f'Your item plus the tax is: {item}')"
   ]
  },
  {
   "cell_type": "code",
   "execution_count": 20,
   "id": "f97d1691",
   "metadata": {},
   "outputs": [
    {
     "name": "stdout",
     "output_type": "stream",
     "text": [
      "Please enter the price of the item: 1000\n",
      "Please enter the tax rate: 25\n",
      "The tax on this price is: 250.0\n",
      "Your item plus the tax is: 1250.0\n"
     ]
    }
   ],
   "source": [
    "tax_calculator()"
   ]
  },
  {
   "cell_type": "code",
   "execution_count": 17,
   "id": "f0a6e615",
   "metadata": {},
   "outputs": [
    {
     "name": "stdout",
     "output_type": "stream",
     "text": [
      "What is the cost?\n",
      "1000\n",
      "What is the tax rate? (in %)\n",
      "50\n",
      "Tax cost: 500.0\n",
      "Total cost: 1500.0\n"
     ]
    }
   ],
   "source": [
    "#Asks the user to enter a cost and either a country or state tax. \n",
    "#It then returns the tax plus the total cost with tax.\n",
    "\n",
    "print('What is the cost?')\n",
    "\n",
    "cost = input()\n",
    "\n",
    "print('What is the tax rate? (in %)')\n",
    "\n",
    "rate = input()\n",
    "\n",
    "rate = float(rate) / 100\n",
    "\n",
    "tax = float(rate) * float(cost)\n",
    "\n",
    "tc = tax + float(cost)\n",
    "\n",
    "print('Tax cost: ' + str(tax))\n",
    "print('Total cost: ' + str(tc))"
   ]
  },
  {
   "cell_type": "code",
   "execution_count": null,
   "id": "fc44daab",
   "metadata": {},
   "outputs": [],
   "source": []
  }
 ],
 "metadata": {
  "kernelspec": {
   "display_name": "Python 3",
   "language": "python",
   "name": "python3"
  },
  "language_info": {
   "codemirror_mode": {
    "name": "ipython",
    "version": 3
   },
   "file_extension": ".py",
   "mimetype": "text/x-python",
   "name": "python",
   "nbconvert_exporter": "python",
   "pygments_lexer": "ipython3",
   "version": "3.8.8"
  }
 },
 "nbformat": 4,
 "nbformat_minor": 5
}
